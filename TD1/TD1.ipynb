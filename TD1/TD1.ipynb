{
 "cells": [
  {
   "cell_type": "code",
   "execution_count": 7,
   "id": "1ada845e",
   "metadata": {},
   "outputs": [],
   "source": [
    "\"\"\"\n",
    "This program show three images.\n",
    "Red : 512x512\n",
    "Blue: 512x512\n",
    "Green : 512x512\n",
    "\"\"\"\n",
    "import cv2\n",
    "import numpy as np\n",
    "\n",
    "# Define image size\n",
    "width = 512\n",
    "\n",
    "# Initialize numpy array lists\n",
    "img_r = np.zeros((width,width,3),np.uint8)\n",
    "img_g = np.zeros((width,width,3),np.uint8)\n",
    "img_b = np.zeros((width,width,3),np.uint8)\n",
    "\n",
    "# Fill the list with needed color\n",
    "# Note : The opencv logic is BGR\n",
    "img_r[:] = (0, 0, 255)\n",
    "img_g[:] = (0, 255, 0)\n",
    "img_b[:] = (255, 0, 0)\n",
    "\n",
    "# Showing images\n",
    "cv2.imshow(\"Red\",img_r)\n",
    "cv2.imshow(\"Green\",img_g)\n",
    "cv2.imshow(\"Blue\",img_b)\n",
    "\n",
    "# Waiting for key input\n",
    "cv2.waitKey(0)\n",
    "\n",
    "# Destroying images on input\n",
    "cv2.destroyWindow (\"Red\")\n",
    "cv2.destroyWindow (\"Green\")\n",
    "cv2.destroyWindow (\"Blue\")"
   ]
  },
  {
   "cell_type": "code",
   "execution_count": null,
   "id": "e597a262",
   "metadata": {},
   "outputs": [],
   "source": []
  }
 ],
 "metadata": {
  "kernelspec": {
   "display_name": "Python 3 (ipykernel)",
   "language": "python",
   "name": "python3"
  },
  "language_info": {
   "codemirror_mode": {
    "name": "ipython",
    "version": 3
   },
   "file_extension": ".py",
   "mimetype": "text/x-python",
   "name": "python",
   "nbconvert_exporter": "python",
   "pygments_lexer": "ipython3",
   "version": "3.9.2"
  }
 },
 "nbformat": 4,
 "nbformat_minor": 5
}
