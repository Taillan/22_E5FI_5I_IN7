{
  "nbformat": 4,
  "nbformat_minor": 0,
  "metadata": {
    "colab": {
      "name": "SVM.ipynb",
      "provenance": [],
      "collapsed_sections": []
    },
    "kernelspec": {
      "name": "python3",
      "display_name": "Python 3"
    },
    "language_info": {
      "name": "python"
    }
  },
  "cells": [
    {
      "cell_type": "markdown",
      "metadata": {
        "id": "cJ1It1fl_kWH"
      },
      "source": [
        "#Download Dataset"
      ]
    },
    {
      "cell_type": "code",
      "metadata": {
        "id": "SbtX_4lF_rvD"
      },
      "source": [
        "!gdown --id 1sQEIPh3bdKQ_1J3g0Z8CRqD6uU7v746l"
      ],
      "execution_count": null,
      "outputs": []
    },
    {
      "cell_type": "code",
      "metadata": {
        "id": "qEWzAzHYFI6B"
      },
      "source": [
        "!unzip dataset.zip"
      ],
      "execution_count": null,
      "outputs": []
    },
    {
      "cell_type": "code",
      "metadata": {
        "id": "2r-oOeuVFbXz"
      },
      "source": [
        "import pathlib\n",
        "data_dir = pathlib.Path(\"./flowers\")\n",
        "image_count = len(list(data_dir.glob('*/*.jpg')))\n",
        "print(image_count)"
      ],
      "execution_count": null,
      "outputs": []
    },
    {
      "cell_type": "markdown",
      "metadata": {
        "id": "REGBZcte_tRK"
      },
      "source": [
        "#Load dataset"
      ]
    },
    {
      "cell_type": "code",
      "metadata": {
        "id": "IskJyFf8GI_F"
      },
      "source": [
        "import cv2\n",
        "import numpy as np\n",
        "import os\n",
        "\n",
        "dataset = []\n",
        "count = 0\n",
        "for label in os.listdir(\"./flowers/\"):\n",
        "  for filename in os.listdir(os.path.join(\"./flowers/\",label)):\n",
        "    count = count + 1\n",
        "    print(str(count) + \" ---loading \" + filename)\n",
        "    image = cv2.imread(os.path.join(\"./flowers/\",label,filename))\n",
        "    dataset.append((image, label))"
      ],
      "execution_count": null,
      "outputs": []
    },
    {
      "cell_type": "code",
      "metadata": {
        "id": "5wRY-WMGIQeb"
      },
      "source": [
        "import random\n",
        "print(random.sample(dataset, 10))"
      ],
      "execution_count": null,
      "outputs": []
    },
    {
      "cell_type": "code",
      "metadata": {
        "id": "FoearZTtI5W6"
      },
      "source": [
        "import random\n",
        "random.shuffle(dataset)"
      ],
      "execution_count": null,
      "outputs": []
    },
    {
      "cell_type": "markdown",
      "metadata": {
        "id": "EOY3raHxJZ-p"
      },
      "source": [
        "#Display dataset"
      ]
    },
    {
      "cell_type": "code",
      "metadata": {
        "id": "r1QP2CS8JeOb"
      },
      "source": [
        "import matplotlib.pyplot as plt\n",
        "fig, axs = plt.subplots(3, 3, figsize = (12, 12))\n",
        "plt.gray()\n",
        "\n",
        "for i, ax in enumerate(axs.flat):\n",
        "  ax.imshow(dataset[i][0][:,:,::-1])\n",
        "  ax.axis('off')\n",
        "  ax.set_title(dataset[i][1])\n",
        "plt.show()"
      ],
      "execution_count": null,
      "outputs": []
    },
    {
      "cell_type": "markdown",
      "metadata": {
        "id": "aeEhsPQCL0Bb"
      },
      "source": [
        "#Preprocessing"
      ]
    },
    {
      "cell_type": "markdown",
      "metadata": {
        "id": "GW6fWMhLOCbb"
      },
      "source": [
        "##Resizing"
      ]
    },
    {
      "cell_type": "code",
      "metadata": {
        "id": "K_KhGMaBOkYS"
      },
      "source": [
        "image_size = (32, 32)"
      ],
      "execution_count": null,
      "outputs": []
    },
    {
      "cell_type": "code",
      "metadata": {
        "id": "voaDdoD8OB3T"
      },
      "source": [
        "import cv2\n",
        "resized = []\n",
        "for d in dataset:\n",
        "  resized.append((cv2.resize(d[0], image_size), d[1]))"
      ],
      "execution_count": null,
      "outputs": []
    },
    {
      "cell_type": "code",
      "metadata": {
        "id": "SvkpO2wFQkiK"
      },
      "source": [
        "dataset = resized"
      ],
      "execution_count": null,
      "outputs": []
    },
    {
      "cell_type": "markdown",
      "metadata": {
        "id": "j8la3H1eL5dV"
      },
      "source": [
        "##Reshape"
      ]
    },
    {
      "cell_type": "code",
      "metadata": {
        "id": "9STKv5_aMk2s"
      },
      "source": [
        "images = np.asarray([d[0] for d in dataset])\n",
        "print(images.shape)"
      ],
      "execution_count": null,
      "outputs": []
    },
    {
      "cell_type": "code",
      "metadata": {
        "id": "OVJUDshRL9QW"
      },
      "source": [
        "images = #...\n",
        "print(images.shape)"
      ],
      "execution_count": null,
      "outputs": []
    },
    {
      "cell_type": "code",
      "metadata": {
        "id": "IMmZMhXOCP4-"
      },
      "source": [
        "labels_classes_mapping = {\"daisy\":0,\"dandelion\":1,\"rose\":2,\"sunflower\":3,\"tulip\":4}\n",
        "labels = np.asarray([labels_classes_mapping[d[1]] for d in dataset])\n",
        "print(labels.shape)"
      ],
      "execution_count": null,
      "outputs": []
    },
    {
      "cell_type": "markdown",
      "metadata": {
        "id": "r36NBBYOL9n4"
      },
      "source": [
        "##Normalization"
      ]
    },
    {
      "cell_type": "code",
      "metadata": {
        "id": "7RhTS8a3L17l"
      },
      "source": [
        "images = #..."
      ],
      "execution_count": null,
      "outputs": []
    },
    {
      "cell_type": "markdown",
      "metadata": {
        "id": "_c_ZcIG0ryXt"
      },
      "source": [
        "#Split Train/Test"
      ]
    },
    {
      "cell_type": "code",
      "metadata": {
        "id": "Hd9pr9i8r2DQ"
      },
      "source": [
        "from sklearn.model_selection import train_test_split\n",
        "(train_x, test_x, train_y, test_y) = train_test_split(images,labels)"
      ],
      "execution_count": null,
      "outputs": []
    },
    {
      "cell_type": "markdown",
      "metadata": {
        "id": "_l-LDSwdCaxT"
      },
      "source": [
        "#SVM"
      ]
    },
    {
      "cell_type": "code",
      "metadata": {
        "id": "aWNkD-kwCdXL"
      },
      "source": [
        "from sklearn.svm import SVC\n",
        "svc = SVC(kernel='linear')\n",
        "svc.fit(train_x, train_y)"
      ],
      "execution_count": null,
      "outputs": []
    },
    {
      "cell_type": "code",
      "metadata": {
        "id": "sHN6p4GpCGCv"
      },
      "source": [
        "predicted_y = svc.predict(test_x)"
      ],
      "execution_count": null,
      "outputs": []
    },
    {
      "cell_type": "code",
      "metadata": {
        "id": "SaGMpJDOCn6K"
      },
      "source": [
        "from sklearn.metrics import accuracy_score\n",
        "print(\"Accuracy on unknown data is\",accuracy_score(test_y,predicted_y))"
      ],
      "execution_count": null,
      "outputs": []
    }
  ]
}